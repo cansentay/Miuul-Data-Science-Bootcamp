{
 "cells": [
  {
   "cell_type": "code",
   "execution_count": 1,
   "id": "e1d35503",
   "metadata": {},
   "outputs": [
    {
     "name": "stdout",
     "output_type": "stream",
     "text": [
      "['THE', 'GOAL', 'IS', 'TURN', 'DATA', 'INTO', 'INFORMATION', 'AND', 'INFORMATION', 'INTO', 'INSIGHT']\n"
     ]
    }
   ],
   "source": [
    "text=\"The goal is turn data into information, and information into insight\"\n",
    "text=text.upper().replace(\",\",\" \").replace(\".\",\" \").split()\n",
    "print(text)"
   ]
  },
  {
   "cell_type": "code",
   "execution_count": 2,
   "id": "342f4954",
   "metadata": {},
   "outputs": [],
   "source": [
    "lst=[\"D\",\"A\",\"T\",\"A\",\"S\",\"C\",\"I\",\"E\",\"N\",\"C\",\"E\"]\n",
    "len(lst)\n",
    "lst[0]\n",
    "lst[10]\n",
    "lst[0:4]\n",
    "del(lst[8])\n",
    "lst.append(1)\n",
    "lst.insert(8,\"N\")"
   ]
  },
  {
   "cell_type": "code",
   "execution_count": 3,
   "id": "fca69acd",
   "metadata": {},
   "outputs": [
    {
     "data": {
      "text/plain": [
       "{'Christian': ['America', 18],\n",
       " 'Daisy': ['England', 13],\n",
       " 'Dante': ['Italy', 25],\n",
       " 'Ahmet': ['Turkey', 24]}"
      ]
     },
     "execution_count": 3,
     "metadata": {},
     "output_type": "execute_result"
    }
   ],
   "source": [
    "dict={\"Christian\" : [\"America\",18], \"Daisy\":[\"England\",12],\"Antonio\":[\"Spain\",22],'Dante':[\"Italy\",25]}\n",
    "dict.keys()\n",
    "dict.values()\n",
    "dict.update({\"Daisy\":[\"England\",13]})\n",
    "dict.update({\"Ahmet\":[\"Turkey\",24]})\n",
    "del(dict[\"Antonio\"])\n",
    "dict"
   ]
  },
  {
   "cell_type": "code",
   "execution_count": 17,
   "id": "5820ce04",
   "metadata": {},
   "outputs": [
    {
     "data": {
      "text/plain": [
       "([13, 93], [2, 18, 22])"
      ]
     },
     "execution_count": 17,
     "metadata": {},
     "output_type": "execute_result"
    }
   ],
   "source": [
    "a = [2, 13, 18, 93, 22]\n",
    "def func(x):\n",
    "    tek = []\n",
    "    çift = []\n",
    "    for i in x:\n",
    "        if i % 2 == 0:\n",
    "            çift.append(i)\n",
    "        else:\n",
    "            tek.append(i)\n",
    "    return tek, çift\n",
    "tek, çift = func(liste)\n",
    "func(liste)"
   ]
  },
  {
   "cell_type": "code",
   "execution_count": 6,
   "id": "f6487309",
   "metadata": {},
   "outputs": [
    {
     "name": "stdout",
     "output_type": "stream",
     "text": [
      "Mühendilik Fakultesi 1 . Öğrenci: Ali\n",
      "Mühendilik Fakultesi 2 . Öğrenci: Veli\n",
      "Mühendilik Fakultesi 3 . Öğrenci: Ayşe\n",
      "Tıp Fakultesi 1 . Öğrenci: Talat\n",
      "Tıp Fakultesi 2 . Öğrenci: Zeynep\n",
      "Tıp Fakultesi 3 . Öğrenci: Ece\n"
     ]
    }
   ],
   "source": [
    "ogrencıler=[\"Ali\",\"Veli\",\"Ayşe\",\"Talat\",\"Zeynep\",\"Ece\"]\n",
    "for index,i in enumerate(ogrencıler[:3],start=1):\n",
    "    print(f\"Mühendilik Fakultesi\",index,\".\",\"Öğrenci:\",i)\n",
    "for index,i in enumerate(ogrencıler[3:],start=1):\n",
    "    print(f\"Tıp Fakultesi\",index,\".\",\"Öğrenci:\",i)"
   ]
  },
  {
   "cell_type": "code",
   "execution_count": 1,
   "id": "73198b29",
   "metadata": {},
   "outputs": [
    {
     "name": "stdout",
     "output_type": "stream",
     "text": [
      "Kredisi 3 olan CMP1005 kodlu dersin kontenjanı 30 kişidir.\n",
      "Kredisi 4 olan PYS1001 kodlu dersin kontenjanı 75 kişidir.\n",
      "Kredisi 2 olan HUK1005 kodlu dersin kontenjanı 150 kişidir.\n",
      "Kredisi 4 olan SEN2204 kodlu dersin kontenjanı 25 kişidir.\n"
     ]
    }
   ],
   "source": [
    "ders_kodu = [\"CMP1005\", \"PYS1001\", \"HUK1005\", \"SEN2204\"]\n",
    "kredi = [3, 4, 2, 4]\n",
    "kontenjan = [30, 75, 150, 25]\n",
    "\n",
    "for ders, kredi, kontenjan in zip(ders_kodu, kredi, kontenjan):\n",
    "    print(f\"Kredisi {kredi} olan {ders} kodlu dersin kontenjanı {kontenjan} kişidir.\")\n",
    "\n"
   ]
  },
  {
   "cell_type": "code",
   "execution_count": 7,
   "id": "da6f13f1",
   "metadata": {},
   "outputs": [
    {
     "name": "stdout",
     "output_type": "stream",
     "text": [
      "{'function', 'qcut', 'lambda', 'miuul'}\n"
     ]
    }
   ],
   "source": [
    "kume1=set([\"data\",\"python\"])\n",
    "kume2=set([\"data\",\"function\",\"qcut\",\"lambda\",\"python\",\"miuul\"])\n",
    "def seto(kume1,kume2):\n",
    "    if kume1.issuperset(kume2):\n",
    "        print(kume1.union(kume2))\n",
    "    else:\n",
    "        print(kume2.difference(kume1))\n",
    "seto(kume1,kume2)\n"
   ]
  },
  {
   "cell_type": "code",
   "execution_count": null,
   "id": "08b08d49",
   "metadata": {},
   "outputs": [],
   "source": []
  }
 ],
 "metadata": {
  "kernelspec": {
   "display_name": "Python 3 (ipykernel)",
   "language": "python",
   "name": "python3"
  },
  "language_info": {
   "codemirror_mode": {
    "name": "ipython",
    "version": 3
   },
   "file_extension": ".py",
   "mimetype": "text/x-python",
   "name": "python",
   "nbconvert_exporter": "python",
   "pygments_lexer": "ipython3",
   "version": "3.10.9"
  },
  "varInspector": {
   "cols": {
    "lenName": 16,
    "lenType": 16,
    "lenVar": 40
   },
   "kernels_config": {
    "python": {
     "delete_cmd_postfix": "",
     "delete_cmd_prefix": "del ",
     "library": "var_list.py",
     "varRefreshCmd": "print(var_dic_list())"
    },
    "r": {
     "delete_cmd_postfix": ") ",
     "delete_cmd_prefix": "rm(",
     "library": "var_list.r",
     "varRefreshCmd": "cat(var_dic_list()) "
    }
   },
   "types_to_exclude": [
    "module",
    "function",
    "builtin_function_or_method",
    "instance",
    "_Feature"
   ],
   "window_display": false
  }
 },
 "nbformat": 4,
 "nbformat_minor": 5
}
