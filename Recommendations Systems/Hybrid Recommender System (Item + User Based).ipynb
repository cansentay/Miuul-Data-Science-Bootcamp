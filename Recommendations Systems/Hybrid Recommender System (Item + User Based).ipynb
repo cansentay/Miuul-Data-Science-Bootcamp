{
 "cells": [
  {
   "cell_type": "code",
   "execution_count": 1,
   "id": "0f224f3e",
   "metadata": {},
   "outputs": [],
   "source": [
    "import pandas as pd\n",
    "pd.set_option('display.max_columns', None)\n",
    "pd.set_option('display.width', 500)\n",
    "pd.set_option('display.expand_frame_repr', False)\n",
    "\n",
    "def create_user_movie_df():\n",
    "    import pandas as pd\n",
    "    movie = pd.read_csv(r\"C:\\Users\\ACER\\Desktop\\Miuul\\Recommendation Systems\\recommender_systems\\datasets\\movie_lens_dataset\\movie.csv\")\n",
    "    rating = pd.read_csv(r\"C:\\Users\\ACER\\Desktop\\Miuul\\Recommendation Systems\\recommender_systems\\datasets\\movie_lens_dataset\\rating.csv\")\n",
    "    df = movie.merge(rating, how=\"left\", on=\"movieId\")\n",
    "    comment_counts= pd.DataFrame(df[\"title\"].value_counts())\n",
    "    rare_movies = comment_counts[comment_counts[\"title\"] <= 1000].index\n",
    "    common_movies = df[~df[\"title\"].isin(rare_movies)]\n",
    "    user_movie_df = common_movies.pivot_table(index=[\"userId\"], columns=[\"title\"], values=\"rating\")\n",
    "    return user_movie_df\n",
    "\n",
    "user_movie_df = create_user_movie_df()"
   ]
  },
  {
   "cell_type": "code",
   "execution_count": 2,
   "id": "297c43a1",
   "metadata": {},
   "outputs": [
    {
     "data": {
      "text/plain": [
       "(['Addams Family Values (1993)',\n",
       "  'Aladdin (1992)',\n",
       "  'Babe (1995)',\n",
       "  'Batman (1989)',\n",
       "  'Batman Forever (1995)',\n",
       "  'Beauty and the Beast (1991)',\n",
       "  'Clerks (1994)',\n",
       "  'Clueless (1995)',\n",
       "  'Coneheads (1993)',\n",
       "  'Dances with Wolves (1990)',\n",
       "  'Ed Wood (1994)',\n",
       "  'Fargo (1996)',\n",
       "  'Get Shorty (1995)',\n",
       "  'Hoop Dreams (1994)',\n",
       "  'I.Q. (1994)',\n",
       "  'Indian in the Cupboard, The (1995)',\n",
       "  'Like Water for Chocolate (Como agua para chocolate) (1992)',\n",
       "  'Miracle on 34th Street (1994)',\n",
       "  'Natural Born Killers (1994)',\n",
       "  'Pulp Fiction (1994)',\n",
       "  'Quiz Show (1994)',\n",
       "  'Taxi Driver (1976)',\n",
       "  'Toy Story (1995)',\n",
       "  'Waterworld (1995)',\n",
       "  \"What's Eating Gilbert Grape (1993)\"],\n",
       " 57110)"
      ]
     },
     "execution_count": 2,
     "metadata": {},
     "output_type": "execute_result"
    }
   ],
   "source": [
    "import pandas as pd\n",
    "random_user = int(pd.Series(user_movie_df.index).sample(1,random_state=79).values)\n",
    "random_user_df = user_movie_df[user_movie_df.index == random_user]\n",
    "movies_watched = random_user_df.columns[random_user_df.notna().any()].tolist()\n",
    "movies_watched,random_user"
   ]
  },
  {
   "cell_type": "code",
   "execution_count": 3,
   "id": "a9090b74",
   "metadata": {},
   "outputs": [
    {
     "data": {
      "text/plain": [
       "25"
      ]
     },
     "execution_count": 3,
     "metadata": {},
     "output_type": "execute_result"
    }
   ],
   "source": [
    "len(movies_watched)"
   ]
  },
  {
   "cell_type": "code",
   "execution_count": 4,
   "id": "1514cfb9",
   "metadata": {},
   "outputs": [
    {
     "data": {
      "text/html": [
       "<div>\n",
       "<style scoped>\n",
       "    .dataframe tbody tr th:only-of-type {\n",
       "        vertical-align: middle;\n",
       "    }\n",
       "\n",
       "    .dataframe tbody tr th {\n",
       "        vertical-align: top;\n",
       "    }\n",
       "\n",
       "    .dataframe thead th {\n",
       "        text-align: right;\n",
       "    }\n",
       "</style>\n",
       "<table border=\"1\" class=\"dataframe\">\n",
       "  <thead>\n",
       "    <tr style=\"text-align: right;\">\n",
       "      <th></th>\n",
       "      <th>userId</th>\n",
       "      <th>movie_count</th>\n",
       "    </tr>\n",
       "  </thead>\n",
       "  <tbody>\n",
       "    <tr>\n",
       "      <th>0</th>\n",
       "      <td>1.0</td>\n",
       "      <td>3</td>\n",
       "    </tr>\n",
       "    <tr>\n",
       "      <th>1</th>\n",
       "      <td>2.0</td>\n",
       "      <td>0</td>\n",
       "    </tr>\n",
       "    <tr>\n",
       "      <th>2</th>\n",
       "      <td>3.0</td>\n",
       "      <td>3</td>\n",
       "    </tr>\n",
       "    <tr>\n",
       "      <th>3</th>\n",
       "      <td>4.0</td>\n",
       "      <td>0</td>\n",
       "    </tr>\n",
       "    <tr>\n",
       "      <th>4</th>\n",
       "      <td>5.0</td>\n",
       "      <td>6</td>\n",
       "    </tr>\n",
       "    <tr>\n",
       "      <th>...</th>\n",
       "      <td>...</td>\n",
       "      <td>...</td>\n",
       "    </tr>\n",
       "    <tr>\n",
       "      <th>138488</th>\n",
       "      <td>138489.0</td>\n",
       "      <td>0</td>\n",
       "    </tr>\n",
       "    <tr>\n",
       "      <th>138489</th>\n",
       "      <td>138490.0</td>\n",
       "      <td>9</td>\n",
       "    </tr>\n",
       "    <tr>\n",
       "      <th>138490</th>\n",
       "      <td>138491.0</td>\n",
       "      <td>1</td>\n",
       "    </tr>\n",
       "    <tr>\n",
       "      <th>138491</th>\n",
       "      <td>138492.0</td>\n",
       "      <td>2</td>\n",
       "    </tr>\n",
       "    <tr>\n",
       "      <th>138492</th>\n",
       "      <td>138493.0</td>\n",
       "      <td>11</td>\n",
       "    </tr>\n",
       "  </tbody>\n",
       "</table>\n",
       "<p>138493 rows × 2 columns</p>\n",
       "</div>"
      ],
      "text/plain": [
       "          userId  movie_count\n",
       "0            1.0            3\n",
       "1            2.0            0\n",
       "2            3.0            3\n",
       "3            4.0            0\n",
       "4            5.0            6\n",
       "...          ...          ...\n",
       "138488  138489.0            0\n",
       "138489  138490.0            9\n",
       "138490  138491.0            1\n",
       "138491  138492.0            2\n",
       "138492  138493.0           11\n",
       "\n",
       "[138493 rows x 2 columns]"
      ]
     },
     "execution_count": 4,
     "metadata": {},
     "output_type": "execute_result"
    }
   ],
   "source": [
    "movies_watched_df = user_movie_df[movies_watched]\n",
    "user_movie_count = movies_watched_df.T.notnull().sum()\n",
    "user_movie_count = user_movie_count.reset_index()\n",
    "user_movie_count.columns = [\"userId\", \"movie_count\"]\n",
    "user_movie_count"
   ]
  },
  {
   "cell_type": "code",
   "execution_count": 5,
   "id": "c5d2a694",
   "metadata": {},
   "outputs": [],
   "source": [
    "users_same_movies = user_movie_count[user_movie_count[\"movie_count\"] > (25*0.6)][\"userId\"]"
   ]
  },
  {
   "cell_type": "code",
   "execution_count": 6,
   "id": "531aa9d8",
   "metadata": {},
   "outputs": [],
   "source": [
    "final_df = pd.concat([movies_watched_df[movies_watched_df.index.isin(users_same_movies)],\n",
    "                      random_user_df[movies_watched]])\n"
   ]
  },
  {
   "cell_type": "code",
   "execution_count": 7,
   "id": "867fb682",
   "metadata": {},
   "outputs": [
    {
     "data": {
      "text/html": [
       "<div>\n",
       "<style scoped>\n",
       "    .dataframe tbody tr th:only-of-type {\n",
       "        vertical-align: middle;\n",
       "    }\n",
       "\n",
       "    .dataframe tbody tr th {\n",
       "        vertical-align: top;\n",
       "    }\n",
       "\n",
       "    .dataframe thead th {\n",
       "        text-align: right;\n",
       "    }\n",
       "</style>\n",
       "<table border=\"1\" class=\"dataframe\">\n",
       "  <thead>\n",
       "    <tr style=\"text-align: right;\">\n",
       "      <th></th>\n",
       "      <th>user_id_1</th>\n",
       "      <th>user_id_2</th>\n",
       "      <th>corr</th>\n",
       "    </tr>\n",
       "  </thead>\n",
       "  <tbody>\n",
       "    <tr>\n",
       "      <th>0</th>\n",
       "      <td>64694.0</td>\n",
       "      <td>66317.0</td>\n",
       "      <td>-1.000000</td>\n",
       "    </tr>\n",
       "    <tr>\n",
       "      <th>1</th>\n",
       "      <td>34524.0</td>\n",
       "      <td>77588.0</td>\n",
       "      <td>-1.000000</td>\n",
       "    </tr>\n",
       "    <tr>\n",
       "      <th>2</th>\n",
       "      <td>20040.0</td>\n",
       "      <td>61012.0</td>\n",
       "      <td>-1.000000</td>\n",
       "    </tr>\n",
       "    <tr>\n",
       "      <th>3</th>\n",
       "      <td>86736.0</td>\n",
       "      <td>55804.0</td>\n",
       "      <td>-0.989371</td>\n",
       "    </tr>\n",
       "    <tr>\n",
       "      <th>4</th>\n",
       "      <td>54160.0</td>\n",
       "      <td>13059.0</td>\n",
       "      <td>-0.972111</td>\n",
       "    </tr>\n",
       "    <tr>\n",
       "      <th>...</th>\n",
       "      <td>...</td>\n",
       "      <td>...</td>\n",
       "      <td>...</td>\n",
       "    </tr>\n",
       "    <tr>\n",
       "      <th>8046252</th>\n",
       "      <td>129557.0</td>\n",
       "      <td>126739.0</td>\n",
       "      <td>1.000000</td>\n",
       "    </tr>\n",
       "    <tr>\n",
       "      <th>8046253</th>\n",
       "      <td>57110.0</td>\n",
       "      <td>57110.0</td>\n",
       "      <td>1.000000</td>\n",
       "    </tr>\n",
       "    <tr>\n",
       "      <th>8046254</th>\n",
       "      <td>35876.0</td>\n",
       "      <td>94179.0</td>\n",
       "      <td>1.000000</td>\n",
       "    </tr>\n",
       "    <tr>\n",
       "      <th>8046255</th>\n",
       "      <td>100429.0</td>\n",
       "      <td>117541.0</td>\n",
       "      <td>1.000000</td>\n",
       "    </tr>\n",
       "    <tr>\n",
       "      <th>8046256</th>\n",
       "      <td>29.0</td>\n",
       "      <td>107788.0</td>\n",
       "      <td>NaN</td>\n",
       "    </tr>\n",
       "  </tbody>\n",
       "</table>\n",
       "<p>8046257 rows × 3 columns</p>\n",
       "</div>"
      ],
      "text/plain": [
       "         user_id_1  user_id_2      corr\n",
       "0          64694.0    66317.0 -1.000000\n",
       "1          34524.0    77588.0 -1.000000\n",
       "2          20040.0    61012.0 -1.000000\n",
       "3          86736.0    55804.0 -0.989371\n",
       "4          54160.0    13059.0 -0.972111\n",
       "...            ...        ...       ...\n",
       "8046252   129557.0   126739.0  1.000000\n",
       "8046253    57110.0    57110.0  1.000000\n",
       "8046254    35876.0    94179.0  1.000000\n",
       "8046255   100429.0   117541.0  1.000000\n",
       "8046256       29.0   107788.0       NaN\n",
       "\n",
       "[8046257 rows x 3 columns]"
      ]
     },
     "execution_count": 7,
     "metadata": {},
     "output_type": "execute_result"
    }
   ],
   "source": [
    "corr_df = final_df.T.corr().unstack().sort_values().drop_duplicates()\n",
    "corr_df = pd.DataFrame(corr_df, columns=[\"corr\"])\n",
    "corr_df.index.names = ['user_id_1', 'user_id_2']\n",
    "corr_df = corr_df.reset_index()\n",
    "corr_df"
   ]
  },
  {
   "cell_type": "code",
   "execution_count": 8,
   "id": "58bafbdf",
   "metadata": {},
   "outputs": [
    {
     "data": {
      "text/html": [
       "<div>\n",
       "<style scoped>\n",
       "    .dataframe tbody tr th:only-of-type {\n",
       "        vertical-align: middle;\n",
       "    }\n",
       "\n",
       "    .dataframe tbody tr th {\n",
       "        vertical-align: top;\n",
       "    }\n",
       "\n",
       "    .dataframe thead th {\n",
       "        text-align: right;\n",
       "    }\n",
       "</style>\n",
       "<table border=\"1\" class=\"dataframe\">\n",
       "  <thead>\n",
       "    <tr style=\"text-align: right;\">\n",
       "      <th></th>\n",
       "      <th>userId</th>\n",
       "      <th>corr</th>\n",
       "    </tr>\n",
       "  </thead>\n",
       "  <tbody>\n",
       "    <tr>\n",
       "      <th>5</th>\n",
       "      <td>57110.0</td>\n",
       "      <td>1.000000</td>\n",
       "    </tr>\n",
       "    <tr>\n",
       "      <th>4</th>\n",
       "      <td>21840.0</td>\n",
       "      <td>0.824364</td>\n",
       "    </tr>\n",
       "    <tr>\n",
       "      <th>3</th>\n",
       "      <td>74603.0</td>\n",
       "      <td>0.756778</td>\n",
       "    </tr>\n",
       "    <tr>\n",
       "      <th>2</th>\n",
       "      <td>83828.0</td>\n",
       "      <td>0.706535</td>\n",
       "    </tr>\n",
       "    <tr>\n",
       "      <th>1</th>\n",
       "      <td>9932.0</td>\n",
       "      <td>0.673581</td>\n",
       "    </tr>\n",
       "    <tr>\n",
       "      <th>0</th>\n",
       "      <td>126732.0</td>\n",
       "      <td>0.654101</td>\n",
       "    </tr>\n",
       "  </tbody>\n",
       "</table>\n",
       "</div>"
      ],
      "text/plain": [
       "     userId      corr\n",
       "5   57110.0  1.000000\n",
       "4   21840.0  0.824364\n",
       "3   74603.0  0.756778\n",
       "2   83828.0  0.706535\n",
       "1    9932.0  0.673581\n",
       "0  126732.0  0.654101"
      ]
     },
     "execution_count": 8,
     "metadata": {},
     "output_type": "execute_result"
    }
   ],
   "source": [
    "top_users = corr_df[(corr_df[\"user_id_1\"] == random_user) & (corr_df[\"corr\"] >= 0.65)][\n",
    "    [\"user_id_2\", \"corr\"]].reset_index(drop=True)\n",
    "top_users = top_users.sort_values(by='corr', ascending=False)\n",
    "top_users.rename(columns={\"user_id_2\": \"userId\"}, inplace=True)\n",
    "top_users"
   ]
  },
  {
   "cell_type": "code",
   "execution_count": 9,
   "id": "d3f79881",
   "metadata": {},
   "outputs": [],
   "source": [
    "rating = pd.read_csv(r\"C:\\Users\\ACER\\Desktop\\Miuul\\Recommendation Systems\\recommender_systems\\datasets\\movie_lens_dataset\\rating.csv\")\n",
    "top_users_ratings = top_users.merge(rating[[\"userId\", \"movieId\", \"rating\"]], how='inner')\n",
    "\n",
    "top_users_ratings = top_users_ratings[top_users_ratings[\"userId\"] != random_user]"
   ]
  },
  {
   "cell_type": "code",
   "execution_count": 10,
   "id": "77524c89",
   "metadata": {},
   "outputs": [
    {
     "data": {
      "text/html": [
       "<div>\n",
       "<style scoped>\n",
       "    .dataframe tbody tr th:only-of-type {\n",
       "        vertical-align: middle;\n",
       "    }\n",
       "\n",
       "    .dataframe tbody tr th {\n",
       "        vertical-align: top;\n",
       "    }\n",
       "\n",
       "    .dataframe thead th {\n",
       "        text-align: right;\n",
       "    }\n",
       "</style>\n",
       "<table border=\"1\" class=\"dataframe\">\n",
       "  <thead>\n",
       "    <tr style=\"text-align: right;\">\n",
       "      <th></th>\n",
       "      <th>weighted_rating</th>\n",
       "    </tr>\n",
       "    <tr>\n",
       "      <th>movieId</th>\n",
       "      <th></th>\n",
       "    </tr>\n",
       "  </thead>\n",
       "  <tbody>\n",
       "    <tr>\n",
       "      <th>1</th>\n",
       "      <td>1.959064</td>\n",
       "    </tr>\n",
       "    <tr>\n",
       "      <th>2</th>\n",
       "      <td>2.296348</td>\n",
       "    </tr>\n",
       "    <tr>\n",
       "      <th>3</th>\n",
       "      <td>2.826139</td>\n",
       "    </tr>\n",
       "    <tr>\n",
       "      <th>4</th>\n",
       "      <td>2.328314</td>\n",
       "    </tr>\n",
       "    <tr>\n",
       "      <th>5</th>\n",
       "      <td>2.119604</td>\n",
       "    </tr>\n",
       "    <tr>\n",
       "      <th>...</th>\n",
       "      <td>...</td>\n",
       "    </tr>\n",
       "    <tr>\n",
       "      <th>100032</th>\n",
       "      <td>2.885275</td>\n",
       "    </tr>\n",
       "    <tr>\n",
       "      <th>101904</th>\n",
       "      <td>2.885275</td>\n",
       "    </tr>\n",
       "    <tr>\n",
       "      <th>102194</th>\n",
       "      <td>3.297457</td>\n",
       "    </tr>\n",
       "    <tr>\n",
       "      <th>106487</th>\n",
       "      <td>2.885275</td>\n",
       "    </tr>\n",
       "    <tr>\n",
       "      <th>107117</th>\n",
       "      <td>2.885275</td>\n",
       "    </tr>\n",
       "  </tbody>\n",
       "</table>\n",
       "<p>1450 rows × 1 columns</p>\n",
       "</div>"
      ],
      "text/plain": [
       "         weighted_rating\n",
       "movieId                 \n",
       "1               1.959064\n",
       "2               2.296348\n",
       "3               2.826139\n",
       "4               2.328314\n",
       "5               2.119604\n",
       "...                  ...\n",
       "100032          2.885275\n",
       "101904          2.885275\n",
       "102194          3.297457\n",
       "106487          2.885275\n",
       "107117          2.885275\n",
       "\n",
       "[1450 rows x 1 columns]"
      ]
     },
     "execution_count": 10,
     "metadata": {},
     "output_type": "execute_result"
    }
   ],
   "source": [
    "top_users_ratings['weighted_rating'] = top_users_ratings['corr'] * top_users_ratings['rating']\n",
    "top_users_ratings.groupby('movieId').agg({\"weighted_rating\": \"mean\"})"
   ]
  },
  {
   "cell_type": "code",
   "execution_count": 11,
   "id": "182425bd",
   "metadata": {},
   "outputs": [],
   "source": [
    "recommendation_df = top_users_ratings.groupby('movieId').agg({\"weighted_rating\": \"mean\"})\n",
    "recommendation_df = recommendation_df.reset_index()"
   ]
  },
  {
   "cell_type": "code",
   "execution_count": 12,
   "id": "5ade7316",
   "metadata": {},
   "outputs": [],
   "source": [
    "movies_to_be_recommend = recommendation_df[recommendation_df[\"weighted_rating\"] > 3.5].sort_values(\"weighted_rating\", ascending=False)\n",
    "movie = pd.read_csv(r\"C:\\Users\\ACER\\Desktop\\Miuul\\Recommendation Systems\\recommender_systems\\datasets\\movie_lens_dataset\\movie.csv\")\n"
   ]
  },
  {
   "cell_type": "code",
   "execution_count": 13,
   "id": "da76e60f",
   "metadata": {},
   "outputs": [
    {
     "data": {
      "text/html": [
       "<div>\n",
       "<style scoped>\n",
       "    .dataframe tbody tr th:only-of-type {\n",
       "        vertical-align: middle;\n",
       "    }\n",
       "\n",
       "    .dataframe tbody tr th {\n",
       "        vertical-align: top;\n",
       "    }\n",
       "\n",
       "    .dataframe thead th {\n",
       "        text-align: right;\n",
       "    }\n",
       "</style>\n",
       "<table border=\"1\" class=\"dataframe\">\n",
       "  <thead>\n",
       "    <tr style=\"text-align: right;\">\n",
       "      <th></th>\n",
       "      <th>movieId</th>\n",
       "      <th>weighted_rating</th>\n",
       "      <th>title</th>\n",
       "    </tr>\n",
       "  </thead>\n",
       "  <tbody>\n",
       "    <tr>\n",
       "      <th>0</th>\n",
       "      <td>3077</td>\n",
       "      <td>4.121821</td>\n",
       "      <td>42 Up (1998)</td>\n",
       "    </tr>\n",
       "    <tr>\n",
       "      <th>1</th>\n",
       "      <td>3072</td>\n",
       "      <td>4.121821</td>\n",
       "      <td>Moonstruck (1987)</td>\n",
       "    </tr>\n",
       "    <tr>\n",
       "      <th>2</th>\n",
       "      <td>3095</td>\n",
       "      <td>4.121821</td>\n",
       "      <td>Grapes of Wrath, The (1940)</td>\n",
       "    </tr>\n",
       "    <tr>\n",
       "      <th>3</th>\n",
       "      <td>3097</td>\n",
       "      <td>4.121821</td>\n",
       "      <td>Shop Around the Corner, The (1940)</td>\n",
       "    </tr>\n",
       "    <tr>\n",
       "      <th>4</th>\n",
       "      <td>3129</td>\n",
       "      <td>4.121821</td>\n",
       "      <td>Sweet and Lowdown (1999)</td>\n",
       "    </tr>\n",
       "  </tbody>\n",
       "</table>\n",
       "</div>"
      ],
      "text/plain": [
       "   movieId  weighted_rating                               title\n",
       "0     3077         4.121821                        42 Up (1998)\n",
       "1     3072         4.121821                   Moonstruck (1987)\n",
       "2     3095         4.121821         Grapes of Wrath, The (1940)\n",
       "3     3097         4.121821  Shop Around the Corner, The (1940)\n",
       "4     3129         4.121821            Sweet and Lowdown (1999)"
      ]
     },
     "execution_count": 13,
     "metadata": {},
     "output_type": "execute_result"
    }
   ],
   "source": [
    "movies_to_be_recommend.merge(movie[[\"movieId\", \"title\"]]).head()"
   ]
  },
  {
   "cell_type": "code",
   "execution_count": 14,
   "id": "be65d1d7",
   "metadata": {},
   "outputs": [],
   "source": [
    "movie = pd.read_csv(r\"C:\\Users\\ACER\\Desktop\\Miuul\\Recommendation Systems\\recommender_systems\\datasets\\movie_lens_dataset\\movie.csv\")\n",
    "rating = pd.read_csv(r\"C:\\Users\\ACER\\Desktop\\Miuul\\Recommendation Systems\\recommender_systems\\datasets\\movie_lens_dataset\\rating.csv\")\n",
    "user= 57110"
   ]
  },
  {
   "cell_type": "code",
   "execution_count": 18,
   "id": "f5432651",
   "metadata": {},
   "outputs": [
    {
     "data": {
      "text/plain": [
       "223"
      ]
     },
     "execution_count": 18,
     "metadata": {},
     "output_type": "execute_result"
    }
   ],
   "source": [
    "movie_id = rating[(rating[\"userId\"] == user) & (rating[\"rating\"] == 5.0)].sort_values(by=\"timestamp\", ascending=False)[\"movieId\"][0:1].values[0]\n",
    "movie_id"
   ]
  },
  {
   "cell_type": "code",
   "execution_count": 19,
   "id": "0a9d4727",
   "metadata": {},
   "outputs": [
    {
     "data": {
      "text/plain": [
       "userId\n",
       "1.0         4.0\n",
       "2.0         NaN\n",
       "3.0         5.0\n",
       "4.0         NaN\n",
       "5.0         NaN\n",
       "           ... \n",
       "138489.0    NaN\n",
       "138490.0    NaN\n",
       "138491.0    NaN\n",
       "138492.0    NaN\n",
       "138493.0    NaN\n",
       "Name: Clerks (1994), Length: 138493, dtype: float64"
      ]
     },
     "execution_count": 19,
     "metadata": {},
     "output_type": "execute_result"
    }
   ],
   "source": [
    "movie_df = user_movie_df[movie[movie[\"movieId\"] == movie_id][\"title\"].values[0]]\n",
    "movie_df"
   ]
  },
  {
   "cell_type": "code",
   "execution_count": 21,
   "id": "e3383a74",
   "metadata": {},
   "outputs": [
    {
     "data": {
      "text/plain": [
       "title\n",
       "Clerks II (2006)                         0.490608\n",
       "Mallrats (1995)                          0.467973\n",
       "Chasing Amy (1997)                       0.446016\n",
       "Jay and Silent Bob Strike Back (2001)    0.404679\n",
       "Dogma (1999)                             0.380266\n",
       "Woodstock (1970)                         0.356060\n",
       "Underground (1995)                       0.328435\n",
       "Zack and Miri Make a Porno (2008)        0.326978\n",
       "Warriors, The (1979)                     0.322433\n",
       "SLC Punk! (1998)                         0.320888\n",
       "dtype: float64"
      ]
     },
     "execution_count": 21,
     "metadata": {},
     "output_type": "execute_result"
    }
   ],
   "source": [
    "user_movie_df.corrwith(movie_df).sort_values(ascending=False).iloc[1:11]\n",
    "\n"
   ]
  },
  {
   "cell_type": "code",
   "execution_count": null,
   "id": "31126a92",
   "metadata": {},
   "outputs": [],
   "source": []
  }
 ],
 "metadata": {
  "kernelspec": {
   "display_name": "Python 3 (ipykernel)",
   "language": "python",
   "name": "python3"
  },
  "language_info": {
   "codemirror_mode": {
    "name": "ipython",
    "version": 3
   },
   "file_extension": ".py",
   "mimetype": "text/x-python",
   "name": "python",
   "nbconvert_exporter": "python",
   "pygments_lexer": "ipython3",
   "version": "3.10.9"
  },
  "varInspector": {
   "cols": {
    "lenName": 16,
    "lenType": 16,
    "lenVar": 40
   },
   "kernels_config": {
    "python": {
     "delete_cmd_postfix": "",
     "delete_cmd_prefix": "del ",
     "library": "var_list.py",
     "varRefreshCmd": "print(var_dic_list())"
    },
    "r": {
     "delete_cmd_postfix": ") ",
     "delete_cmd_prefix": "rm(",
     "library": "var_list.r",
     "varRefreshCmd": "cat(var_dic_list()) "
    }
   },
   "types_to_exclude": [
    "module",
    "function",
    "builtin_function_or_method",
    "instance",
    "_Feature"
   ],
   "window_display": false
  }
 },
 "nbformat": 4,
 "nbformat_minor": 5
}
